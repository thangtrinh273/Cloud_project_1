{
 "cells": [
  {
   "cell_type": "code",
   "execution_count": 3,
   "id": "f1f6a035",
   "metadata": {},
   "outputs": [],
   "source": [
    "import pandas as pd\n",
    "import kaggle"
   ]
  },
  {
   "cell_type": "code",
   "execution_count": 4,
   "id": "6e64b758",
   "metadata": {},
   "outputs": [],
   "source": [
    "kaggle.api.authenticate()"
   ]
  },
  {
   "cell_type": "code",
   "execution_count": 16,
   "id": "eb47b7c0",
   "metadata": {},
   "outputs": [],
   "source": [
    "kaggle_list = kaggle.api.dataset_list(search=\"energy consumption\", sort_by=\"hottest\", file_type=\"csv\", max_size=None, min_size=None, license_name=None, user=None)"
   ]
  },
  {
   "cell_type": "code",
   "execution_count": 17,
   "id": "fb100ede",
   "metadata": {},
   "outputs": [
    {
     "data": {
      "text/plain": [
       "[{\"id\": 1859741, \"ref\": \"pralabhpoudel/world-energy-consumption\", \"subtitle\": \"Consumption of energy by different countries\", \"creatorName\": \"Pralabh Poudel\", \"creatorUrl\": \"pralabhpoudel\", \"totalBytes\": 2363711, \"url\": \"https://www.kaggle.com/datasets/pralabhpoudel/world-energy-consumption\", \"lastUpdated\": \"2023-11-26T00:57:10.697Z\", \"downloadCount\": 24226, \"isPrivate\": false, \"isFeatured\": false, \"licenseName\": \"Attribution 4.0 International (CC BY 4.0)\", \"description\": \"\", \"ownerName\": \"Pralabh Poudel\", \"ownerRef\": \"pralabhpoudel\", \"kernelCount\": 25, \"title\": \"World Energy Consumption\", \"topicCount\": 0, \"viewCount\": 162153, \"voteCount\": 216, \"currentVersionNumber\": 3, \"usabilityRating\": 1.0, \"tags\": [{\"ref\": \"demographics\", \"name\": \"demographics\", \"description\": \"Demographics cover different aspects of life: youth, religion, housing, employment, taxes and mortality. This tag contains census data that describe various populations and communities.\", \"fullPath\": \"subject > people and society > social science > demographics\", \"competitionCount\": 2, \"datasetCount\": 1045, \"scriptCount\": 343, \"totalCount\": 1390}, {\"ref\": \"energy\", \"name\": \"energy\", \"description\": \"We've got solar, we've got coal, and we've even got nuclear energy data. According to the law of conservation of energy it can't be created or destroyed, but here our catalog of energy-related datasets and kernels continues to grow.\", \"fullPath\": \"subject > science and technology > energy\", \"competitionCount\": 9, \"datasetCount\": 6690, \"scriptCount\": 587, \"totalCount\": 7286}, {\"ref\": \"data cleaning\", \"name\": \"data cleaning\", \"description\": \"\", \"fullPath\": \"analysis > data cleaning\", \"competitionCount\": 33, \"datasetCount\": 4677, \"scriptCount\": 14741, \"totalCount\": 19451}, {\"ref\": \"data visualization\", \"name\": \"data visualization\", \"description\": \"The art of depicting data in a visual format. Using charts and graphs, it is easier to observe patterns, relationships, and outliers.\", \"fullPath\": \"technique > data visualization\", \"competitionCount\": 22, \"datasetCount\": 8442, \"scriptCount\": 37616, \"totalCount\": 46080}, {\"ref\": \"data analytics\", \"name\": \"data analytics\", \"description\": \"\", \"fullPath\": \"technique > data analytics\", \"competitionCount\": 36, \"datasetCount\": 9796, \"scriptCount\": 15762, \"totalCount\": 25594}], \"files\": [], \"versions\": []},\n",
       " {\"id\": 92608, \"ref\": \"lucabasa/dutch-energy\", \"subtitle\": \"Electricity and Gas consumed in the Netherlands every year\", \"creatorName\": \"Luca Basanisi\", \"creatorUrl\": \"lucabasa\", \"totalBytes\": 146066069, \"url\": \"https://www.kaggle.com/datasets/lucabasa/dutch-energy\", \"lastUpdated\": \"2020-06-21T18:51:28.303Z\", \"downloadCount\": 111450, \"isPrivate\": false, \"isFeatured\": false, \"licenseName\": \"CC BY-SA 4.0\", \"description\": \"\", \"ownerName\": \"Luca Basanisi\", \"ownerRef\": \"lucabasa\", \"kernelCount\": 22, \"title\": \"Energy consumption of the Netherlands\", \"topicCount\": 0, \"viewCount\": 140000, \"voteCount\": 346, \"currentVersionNumber\": 3, \"usabilityRating\": 0.9411765, \"tags\": [{\"ref\": \"energy\", \"name\": \"energy\", \"description\": \"We've got solar, we've got coal, and we've even got nuclear energy data. According to the law of conservation of energy it can't be created or destroyed, but here our catalog of energy-related datasets and kernels continues to grow.\", \"fullPath\": \"subject > science and technology > energy\", \"competitionCount\": 9, \"datasetCount\": 6690, \"scriptCount\": 587, \"totalCount\": 7286}, {\"ref\": \"renewable energy\", \"name\": \"renewable energy\", \"description\": \"\", \"fullPath\": \"subject > science and technology > energy > renewable energy\", \"competitionCount\": 2, \"datasetCount\": 2461, \"scriptCount\": 247, \"totalCount\": 2710}, {\"ref\": \"electricity\", \"name\": \"electricity\", \"description\": \"\", \"fullPath\": \"subject > science and technology > energy > electricity\", \"competitionCount\": 2, \"datasetCount\": 2139, \"scriptCount\": 215, \"totalCount\": 2356}], \"files\": [], \"versions\": []},\n",
       " {\"id\": 1811720, \"ref\": \"csafrit2/steel-industry-energy-consumption\", \"subtitle\": \"A Regression Task on energy usage\", \"creatorName\": \"csafrit\", \"creatorUrl\": \"csafrit2\", \"totalBytes\": 495783, \"url\": \"https://www.kaggle.com/datasets/csafrit2/steel-industry-energy-consumption\", \"lastUpdated\": \"2021-12-21T21:47:58.600Z\", \"downloadCount\": 7407, \"isPrivate\": false, \"isFeatured\": false, \"licenseName\": \"Other (specified in description)\", \"description\": \"\", \"ownerName\": \"csafrit\", \"ownerRef\": \"csafrit2\", \"kernelCount\": 23, \"title\": \" Steel Industry Energy Consumption\", \"topicCount\": 0, \"viewCount\": 51013, \"voteCount\": 62, \"currentVersionNumber\": 1, \"usabilityRating\": 1.0, \"tags\": [{\"ref\": \"environment\", \"name\": \"environment\", \"description\": \"The environment tag is chock full of datasets and kernels that are generally showing how poorly we are treating the planet. One positive side to this tag is that it wasn't printed on paper.\", \"fullPath\": \"subject > earth and nature > environment\", \"competitionCount\": 28, \"datasetCount\": 1648, \"scriptCount\": 624, \"totalCount\": 2300}, {\"ref\": \"pollution\", \"name\": \"pollution\", \"description\": \"Pollution is the introduction of contaminants into the natural environment that cause adverse change.\", \"fullPath\": \"subject > earth and nature > environment > pollution\", \"competitionCount\": 6, \"datasetCount\": 456, \"scriptCount\": 234, \"totalCount\": 696}, {\"ref\": \"science and technology\", \"name\": \"science and technology\", \"description\": \"\", \"fullPath\": \"subject > science and technology\", \"competitionCount\": 11, \"datasetCount\": 4474, \"scriptCount\": 1595, \"totalCount\": 6080}, {\"ref\": \"energy\", \"name\": \"energy\", \"description\": \"We've got solar, we've got coal, and we've even got nuclear energy data. According to the law of conservation of energy it can't be created or destroyed, but here our catalog of energy-related datasets and kernels continues to grow.\", \"fullPath\": \"subject > science and technology > energy\", \"competitionCount\": 9, \"datasetCount\": 6690, \"scriptCount\": 587, \"totalCount\": 7286}, {\"ref\": \"regression\", \"name\": \"regression\", \"description\": \"\", \"fullPath\": \"task > regression\", \"competitionCount\": 1350, \"datasetCount\": 2172, \"scriptCount\": 7587, \"totalCount\": 11109}], \"files\": [], \"versions\": []},\n",
       " {\"id\": 4962496, \"ref\": \"alistairking/renewable-energy-consumption-in-the-u-s\", \"subtitle\": \"U.S. Monthly Renewable Energy Consumption by Source and Sector (1973-2024)\", \"creatorName\": \"Alistair King\", \"creatorUrl\": \"alistairking\", \"totalBytes\": 57835, \"url\": \"https://www.kaggle.com/datasets/alistairking/renewable-energy-consumption-in-the-u-s\", \"lastUpdated\": \"2024-05-08T03:21:15.407Z\", \"downloadCount\": 3727, \"isPrivate\": false, \"isFeatured\": false, \"licenseName\": \"U.S. Government Works\", \"description\": \"\", \"ownerName\": \"Alistair King\", \"ownerRef\": \"alistairking\", \"kernelCount\": 11, \"title\": \"U.S. Renewable Energy Consumption\", \"topicCount\": 0, \"viewCount\": 15604, \"voteCount\": 60, \"currentVersionNumber\": 1, \"usabilityRating\": 1.0, \"tags\": [{\"ref\": \"renewable energy\", \"name\": \"renewable energy\", \"description\": \"\", \"fullPath\": \"subject > science and technology > energy > renewable energy\", \"competitionCount\": 2, \"datasetCount\": 2461, \"scriptCount\": 247, \"totalCount\": 2710}], \"files\": [], \"versions\": []},\n",
       " {\"id\": 1595848, \"ref\": \"jamesvandenberg/renewable-power-generation\", \"subtitle\": \"Global Energy Consumption (1990-2020) & Renewable Energy Generation (1997-2017)\", \"creatorName\": \"James Arthur\", \"creatorUrl\": \"jamesvandenberg\", \"totalBytes\": 7097, \"url\": \"https://www.kaggle.com/datasets/jamesvandenberg/renewable-power-generation\", \"lastUpdated\": \"2021-10-01T16:02:10.420Z\", \"downloadCount\": 8714, \"isPrivate\": false, \"isFeatured\": false, \"licenseName\": \"CC0: Public Domain\", \"description\": \"\", \"ownerName\": \"James Arthur\", \"ownerRef\": \"jamesvandenberg\", \"kernelCount\": 12, \"title\": \"Global Energy Consumption & Renewable Generation\", \"topicCount\": 0, \"viewCount\": 44825, \"voteCount\": 70, \"currentVersionNumber\": 2, \"usabilityRating\": 1.0, \"tags\": [{\"ref\": \"renewable energy\", \"name\": \"renewable energy\", \"description\": \"\", \"fullPath\": \"subject > science and technology > energy > renewable energy\", \"competitionCount\": 2, \"datasetCount\": 2461, \"scriptCount\": 247, \"totalCount\": 2710}, {\"ref\": \"geospatial analysis\", \"name\": \"geospatial analysis\", \"description\": \"\", \"fullPath\": \"analysis > geospatial analysis\", \"competitionCount\": 24, \"datasetCount\": 1267, \"scriptCount\": 995, \"totalCount\": 2286}, {\"ref\": \"time series analysis\", \"name\": \"time series analysis\", \"description\": \"\", \"fullPath\": \"technique > time series analysis\", \"competitionCount\": 683, \"datasetCount\": 3083, \"scriptCount\": 3948, \"totalCount\": 7714}], \"files\": [], \"versions\": []},\n",
       " {\"id\": 2678471, \"ref\": \"vitthalmadane/energy-consumption-time-series-dataset\", \"subtitle\": \"HVAC AHU Blower Energy Consumption in KWh\", \"creatorName\": \"Vitthal Madane\", \"creatorUrl\": \"vitthalmadane\", \"totalBytes\": 35598, \"url\": \"https://www.kaggle.com/datasets/vitthalmadane/energy-consumption-time-series-dataset\", \"lastUpdated\": \"2022-11-27T06:20:15.243Z\", \"downloadCount\": 6402, \"isPrivate\": false, \"isFeatured\": false, \"licenseName\": \"Data files \\u00a9 Original Authors\", \"description\": \"\", \"ownerName\": \"Vitthal Madane\", \"ownerRef\": \"vitthalmadane\", \"kernelCount\": 10, \"title\": \"Energy Consumption Time Series Dataset\", \"topicCount\": 0, \"viewCount\": 40458, \"voteCount\": 58, \"currentVersionNumber\": 3, \"usabilityRating\": 1.0, \"tags\": [{\"ref\": \"deep learning\", \"name\": \"deep learning\", \"description\": \"\", \"fullPath\": \"technique > deep learning\", \"competitionCount\": 77, \"datasetCount\": 4705, \"scriptCount\": 17964, \"totalCount\": 22746}, {\"ref\": \"lstm\", \"name\": \"lstm\", \"description\": \"\", \"fullPath\": \"technique > neural networks > lstm\", \"competitionCount\": 3, \"datasetCount\": 498, \"scriptCount\": 2421, \"totalCount\": 2922}, {\"ref\": \"tabular\", \"name\": \"tabular\", \"description\": \"\", \"fullPath\": \"data type > tabular\", \"competitionCount\": 14565, \"datasetCount\": 13398, \"scriptCount\": 7538, \"totalCount\": 35501}, {\"ref\": \"seaborn\", \"name\": \"seaborn\", \"description\": \"\", \"fullPath\": \"packages > seaborn\", \"competitionCount\": 1, \"datasetCount\": 248, \"scriptCount\": 37074, \"totalCount\": 37323}, {\"ref\": \"sklearn\", \"name\": \"sklearn\", \"description\": \"\", \"fullPath\": \"packages > sklearn\", \"competitionCount\": 6, \"datasetCount\": 443, \"scriptCount\": 15740, \"totalCount\": 16189}], \"files\": [], \"versions\": []},\n",
       " {\"id\": 6435081, \"ref\": \"govindaramsriram/energy-consumption-dataset-linear-regression\", \"subtitle\": \"Energy Consumption Prediction Dataset with Building Features and Environmental F\", \"creatorName\": \"GOVINDARAM SRIRAM\", \"creatorUrl\": \"govindaramsriram\", \"totalBytes\": 16643, \"url\": \"https://www.kaggle.com/datasets/govindaramsriram/energy-consumption-dataset-linear-regression\", \"lastUpdated\": \"2025-01-06T16:09:37.137Z\", \"downloadCount\": 8055, \"isPrivate\": false, \"isFeatured\": false, \"licenseName\": \"Attribution 4.0 International (CC BY 4.0)\", \"description\": \"\", \"ownerName\": \"GOVINDARAM SRIRAM\", \"ownerRef\": \"govindaramsriram\", \"kernelCount\": 65, \"title\": \"Energy Consumption Dataset - Linear Regression\", \"topicCount\": 0, \"viewCount\": 27462, \"voteCount\": 54, \"currentVersionNumber\": 1, \"usabilityRating\": 1.0, \"tags\": [{\"ref\": \"energy\", \"name\": \"energy\", \"description\": \"We've got solar, we've got coal, and we've even got nuclear energy data. According to the law of conservation of energy it can't be created or destroyed, but here our catalog of energy-related datasets and kernels continues to grow.\", \"fullPath\": \"subject > science and technology > energy\", \"competitionCount\": 9, \"datasetCount\": 6690, \"scriptCount\": 587, \"totalCount\": 7286}, {\"ref\": \"beginner\", \"name\": \"beginner\", \"description\": \"New to data science? Explore tips, tricks, and beginner friendly work from other Kagglers.\", \"fullPath\": \"audience > beginner\", \"competitionCount\": 13811, \"datasetCount\": 9520, \"scriptCount\": 43357, \"totalCount\": 66688}, {\"ref\": \"data visualization\", \"name\": \"data visualization\", \"description\": \"The art of depicting data in a visual format. Using charts and graphs, it is easier to observe patterns, relationships, and outliers.\", \"fullPath\": \"technique > data visualization\", \"competitionCount\": 22, \"datasetCount\": 8442, \"scriptCount\": 37616, \"totalCount\": 46080}, {\"ref\": \"tabular\", \"name\": \"tabular\", \"description\": \"\", \"fullPath\": \"data type > tabular\", \"competitionCount\": 14565, \"datasetCount\": 13398, \"scriptCount\": 7538, \"totalCount\": 35501}, {\"ref\": \"regression\", \"name\": \"regression\", \"description\": \"\", \"fullPath\": \"task > regression\", \"competitionCount\": 1350, \"datasetCount\": 2172, \"scriptCount\": 7587, \"totalCount\": 11109}], \"files\": [], \"versions\": []},\n",
       " {\"id\": 4694180, \"ref\": \"mahdiehhajian/energy-consumption\", \"subtitle\": \"Annual energy consumption across all City-operated facilities.\", \"creatorName\": \"mahdieh hajian\", \"creatorUrl\": \"mahdiehhajian\", \"totalBytes\": 18084, \"url\": \"https://www.kaggle.com/datasets/mahdiehhajian/energy-consumption\", \"lastUpdated\": \"2024-03-29T17:30:54.180Z\", \"downloadCount\": 1301, \"isPrivate\": false, \"isFeatured\": false, \"licenseName\": \"CC BY-NC-SA 4.0\", \"description\": \"\", \"ownerName\": \"mahdieh hajian\", \"ownerRef\": \"mahdiehhajian\", \"kernelCount\": 1, \"title\": \"Energy Consumption\", \"topicCount\": 0, \"viewCount\": 7655, \"voteCount\": 67, \"currentVersionNumber\": 1, \"usabilityRating\": 0.9411765, \"tags\": [{\"ref\": \"energy\", \"name\": \"energy\", \"description\": \"We've got solar, we've got coal, and we've even got nuclear energy data. According to the law of conservation of energy it can't be created or destroyed, but here our catalog of energy-related datasets and kernels continues to grow.\", \"fullPath\": \"subject > science and technology > energy\", \"competitionCount\": 9, \"datasetCount\": 6690, \"scriptCount\": 587, \"totalCount\": 7286}, {\"ref\": \"data visualization\", \"name\": \"data visualization\", \"description\": \"The art of depicting data in a visual format. Using charts and graphs, it is easier to observe patterns, relationships, and outliers.\", \"fullPath\": \"technique > data visualization\", \"competitionCount\": 22, \"datasetCount\": 8442, \"scriptCount\": 37616, \"totalCount\": 46080}, {\"ref\": \"data analytics\", \"name\": \"data analytics\", \"description\": \"\", \"fullPath\": \"technique > data analytics\", \"competitionCount\": 36, \"datasetCount\": 9796, \"scriptCount\": 15762, \"totalCount\": 25594}, {\"ref\": \"electricity\", \"name\": \"electricity\", \"description\": \"\", \"fullPath\": \"subject > science and technology > energy > electricity\", \"competitionCount\": 2, \"datasetCount\": 2139, \"scriptCount\": 215, \"totalCount\": 2356}, {\"ref\": \"oil and gas\", \"name\": \"oil and gas\", \"description\": \"\", \"fullPath\": \"subject > science and technology > energy > oil and gas\", \"competitionCount\": 1, \"datasetCount\": 1754, \"scriptCount\": 134, \"totalCount\": 1889}], \"files\": [], \"versions\": []},\n",
       " {\"id\": 5337453, \"ref\": \"patricklford/world-energy-consumption\", \"subtitle\": \"How long does it take the Sun to equal the energy we use in one year ?\", \"creatorName\": \"Patrick L Ford\", \"creatorUrl\": \"patricklford\", \"totalBytes\": 11554, \"url\": \"https://www.kaggle.com/datasets/patricklford/world-energy-consumption\", \"lastUpdated\": \"2024-07-05T10:43:18.407Z\", \"downloadCount\": 2110, \"isPrivate\": false, \"isFeatured\": false, \"licenseName\": \"Database: Open Database, Contents: \\u00a9 Original Authors\", \"description\": \"\", \"ownerName\": \"Patrick L Ford\", \"ownerRef\": \"patricklford\", \"kernelCount\": 4, \"title\": \"World Energy Consumption\", \"topicCount\": 0, \"viewCount\": 11436, \"voteCount\": 26, \"currentVersionNumber\": 1, \"usabilityRating\": 1.0, \"tags\": [{\"ref\": \"energy\", \"name\": \"energy\", \"description\": \"We've got solar, we've got coal, and we've even got nuclear energy data. According to the law of conservation of energy it can't be created or destroyed, but here our catalog of energy-related datasets and kernels continues to grow.\", \"fullPath\": \"subject > science and technology > energy\", \"competitionCount\": 9, \"datasetCount\": 6690, \"scriptCount\": 587, \"totalCount\": 7286}, {\"ref\": \"renewable energy\", \"name\": \"renewable energy\", \"description\": \"\", \"fullPath\": \"subject > science and technology > energy > renewable energy\", \"competitionCount\": 2, \"datasetCount\": 2461, \"scriptCount\": 247, \"totalCount\": 2710}, {\"ref\": \"data visualization\", \"name\": \"data visualization\", \"description\": \"The art of depicting data in a visual format. Using charts and graphs, it is easier to observe patterns, relationships, and outliers.\", \"fullPath\": \"technique > data visualization\", \"competitionCount\": 22, \"datasetCount\": 8442, \"scriptCount\": 37616, \"totalCount\": 46080}, {\"ref\": \"tidyverse\", \"name\": \"tidyverse\", \"description\": \"A collection of R packages essential for data science. It includes ggplot2, dplyr, tidyr, readr, purrr, tibble, stringr, and forcats.\", \"fullPath\": \"packages > tidyverse\", \"competitionCount\": 0, \"datasetCount\": 304, \"scriptCount\": 1322, \"totalCount\": 1626}, {\"ref\": \"r\", \"name\": \"r\", \"description\": \"\", \"fullPath\": \"subject > science and technology > computer science > programming > r\", \"competitionCount\": 0, \"datasetCount\": 312, \"scriptCount\": 1174, \"totalCount\": 1486}], \"files\": [], \"versions\": []},\n",
       " {\"id\": 1023656, \"ref\": \"arashnic/building-sites-power-consumption-dataset\", \"subtitle\": \"Forecast energy consumption in different time steps and granularities  \", \"creatorName\": \"M\\u00f6bius\", \"creatorUrl\": \"arashnic\", \"totalBytes\": 152634054, \"url\": \"https://www.kaggle.com/datasets/arashnic/building-sites-power-consumption-dataset\", \"lastUpdated\": \"2020-12-08T20:35:34.743Z\", \"downloadCount\": 4825, \"isPrivate\": false, \"isFeatured\": false, \"licenseName\": \"CC0: Public Domain\", \"description\": \"\", \"ownerName\": \"M\\u00f6bius\", \"ownerRef\": \"arashnic\", \"kernelCount\": 2, \"title\": \"Buildings Energy Consumption \", \"topicCount\": 0, \"viewCount\": 26948, \"voteCount\": 35, \"currentVersionNumber\": 1, \"usabilityRating\": 1.0, \"tags\": [{\"ref\": \"energy\", \"name\": \"energy\", \"description\": \"We've got solar, we've got coal, and we've even got nuclear energy data. According to the law of conservation of energy it can't be created or destroyed, but here our catalog of energy-related datasets and kernels continues to grow.\", \"fullPath\": \"subject > science and technology > energy\", \"competitionCount\": 9, \"datasetCount\": 6690, \"scriptCount\": 587, \"totalCount\": 7286}, {\"ref\": \"time series analysis\", \"name\": \"time series analysis\", \"description\": \"\", \"fullPath\": \"technique > time series analysis\", \"competitionCount\": 683, \"datasetCount\": 3083, \"scriptCount\": 3948, \"totalCount\": 7714}, {\"ref\": \"news\", \"name\": \"news\", \"description\": \"\", \"fullPath\": \"subject > people and society > news\", \"competitionCount\": 2, \"datasetCount\": 17007, \"scriptCount\": 3082, \"totalCount\": 20091}, {\"ref\": \"electricity\", \"name\": \"electricity\", \"description\": \"\", \"fullPath\": \"subject > science and technology > energy > electricity\", \"competitionCount\": 2, \"datasetCount\": 2139, \"scriptCount\": 215, \"totalCount\": 2356}], \"files\": [], \"versions\": []}]"
      ]
     },
     "execution_count": 17,
     "metadata": {},
     "output_type": "execute_result"
    }
   ],
   "source": [
    "kaggle_list[:10]  # Display the first 10 datasets"
   ]
  },
  {
   "cell_type": "code",
   "execution_count": 7,
   "id": "38fc6fec",
   "metadata": {},
   "outputs": [
    {
     "name": "stdout",
     "output_type": "stream",
     "text": [
      "Dataset URL: https://www.kaggle.com/datasets/csafrit2/steel-industry-energy-consumption\n"
     ]
    }
   ],
   "source": [
    "kaggle.api.dataset_download_files(dataset=\"csafrit2/steel-industry-energy-consumption\", path=\"./data/\", unzip=True)"
   ]
  },
  {
   "cell_type": "code",
   "execution_count": 12,
   "id": "4dfaf52c",
   "metadata": {},
   "outputs": [],
   "source": [
    "df = pd.read_csv('data/Steel_industry_data.csv')"
   ]
  },
  {
   "cell_type": "code",
   "execution_count": 13,
   "id": "c52a5665",
   "metadata": {},
   "outputs": [
    {
     "data": {
      "text/html": [
       "<div>\n",
       "<style scoped>\n",
       "    .dataframe tbody tr th:only-of-type {\n",
       "        vertical-align: middle;\n",
       "    }\n",
       "\n",
       "    .dataframe tbody tr th {\n",
       "        vertical-align: top;\n",
       "    }\n",
       "\n",
       "    .dataframe thead th {\n",
       "        text-align: right;\n",
       "    }\n",
       "</style>\n",
       "<table border=\"1\" class=\"dataframe\">\n",
       "  <thead>\n",
       "    <tr style=\"text-align: right;\">\n",
       "      <th></th>\n",
       "      <th>date</th>\n",
       "      <th>Usage_kWh</th>\n",
       "      <th>Lagging_Current_Reactive.Power_kVarh</th>\n",
       "      <th>Leading_Current_Reactive_Power_kVarh</th>\n",
       "      <th>CO2(tCO2)</th>\n",
       "      <th>Lagging_Current_Power_Factor</th>\n",
       "      <th>Leading_Current_Power_Factor</th>\n",
       "      <th>NSM</th>\n",
       "      <th>WeekStatus</th>\n",
       "      <th>Day_of_week</th>\n",
       "      <th>Load_Type</th>\n",
       "    </tr>\n",
       "  </thead>\n",
       "  <tbody>\n",
       "    <tr>\n",
       "      <th>0</th>\n",
       "      <td>01/01/2018 00:15</td>\n",
       "      <td>3.17</td>\n",
       "      <td>2.95</td>\n",
       "      <td>0.0</td>\n",
       "      <td>0.0</td>\n",
       "      <td>73.21</td>\n",
       "      <td>100.0</td>\n",
       "      <td>900</td>\n",
       "      <td>Weekday</td>\n",
       "      <td>Monday</td>\n",
       "      <td>Light_Load</td>\n",
       "    </tr>\n",
       "    <tr>\n",
       "      <th>1</th>\n",
       "      <td>01/01/2018 00:30</td>\n",
       "      <td>4.00</td>\n",
       "      <td>4.46</td>\n",
       "      <td>0.0</td>\n",
       "      <td>0.0</td>\n",
       "      <td>66.77</td>\n",
       "      <td>100.0</td>\n",
       "      <td>1800</td>\n",
       "      <td>Weekday</td>\n",
       "      <td>Monday</td>\n",
       "      <td>Light_Load</td>\n",
       "    </tr>\n",
       "    <tr>\n",
       "      <th>2</th>\n",
       "      <td>01/01/2018 00:45</td>\n",
       "      <td>3.24</td>\n",
       "      <td>3.28</td>\n",
       "      <td>0.0</td>\n",
       "      <td>0.0</td>\n",
       "      <td>70.28</td>\n",
       "      <td>100.0</td>\n",
       "      <td>2700</td>\n",
       "      <td>Weekday</td>\n",
       "      <td>Monday</td>\n",
       "      <td>Light_Load</td>\n",
       "    </tr>\n",
       "    <tr>\n",
       "      <th>3</th>\n",
       "      <td>01/01/2018 01:00</td>\n",
       "      <td>3.31</td>\n",
       "      <td>3.56</td>\n",
       "      <td>0.0</td>\n",
       "      <td>0.0</td>\n",
       "      <td>68.09</td>\n",
       "      <td>100.0</td>\n",
       "      <td>3600</td>\n",
       "      <td>Weekday</td>\n",
       "      <td>Monday</td>\n",
       "      <td>Light_Load</td>\n",
       "    </tr>\n",
       "    <tr>\n",
       "      <th>4</th>\n",
       "      <td>01/01/2018 01:15</td>\n",
       "      <td>3.82</td>\n",
       "      <td>4.50</td>\n",
       "      <td>0.0</td>\n",
       "      <td>0.0</td>\n",
       "      <td>64.72</td>\n",
       "      <td>100.0</td>\n",
       "      <td>4500</td>\n",
       "      <td>Weekday</td>\n",
       "      <td>Monday</td>\n",
       "      <td>Light_Load</td>\n",
       "    </tr>\n",
       "  </tbody>\n",
       "</table>\n",
       "</div>"
      ],
      "text/plain": [
       "               date  Usage_kWh  Lagging_Current_Reactive.Power_kVarh  \\\n",
       "0  01/01/2018 00:15       3.17                                  2.95   \n",
       "1  01/01/2018 00:30       4.00                                  4.46   \n",
       "2  01/01/2018 00:45       3.24                                  3.28   \n",
       "3  01/01/2018 01:00       3.31                                  3.56   \n",
       "4  01/01/2018 01:15       3.82                                  4.50   \n",
       "\n",
       "   Leading_Current_Reactive_Power_kVarh  CO2(tCO2)  \\\n",
       "0                                   0.0        0.0   \n",
       "1                                   0.0        0.0   \n",
       "2                                   0.0        0.0   \n",
       "3                                   0.0        0.0   \n",
       "4                                   0.0        0.0   \n",
       "\n",
       "   Lagging_Current_Power_Factor  Leading_Current_Power_Factor   NSM  \\\n",
       "0                         73.21                         100.0   900   \n",
       "1                         66.77                         100.0  1800   \n",
       "2                         70.28                         100.0  2700   \n",
       "3                         68.09                         100.0  3600   \n",
       "4                         64.72                         100.0  4500   \n",
       "\n",
       "  WeekStatus Day_of_week   Load_Type  \n",
       "0    Weekday      Monday  Light_Load  \n",
       "1    Weekday      Monday  Light_Load  \n",
       "2    Weekday      Monday  Light_Load  \n",
       "3    Weekday      Monday  Light_Load  \n",
       "4    Weekday      Monday  Light_Load  "
      ]
     },
     "execution_count": 13,
     "metadata": {},
     "output_type": "execute_result"
    }
   ],
   "source": [
    "df.head()"
   ]
  },
  {
   "cell_type": "code",
   "execution_count": 14,
   "id": "bc5a21be",
   "metadata": {},
   "outputs": [
    {
     "data": {
      "text/plain": [
       "(35040, 11)"
      ]
     },
     "execution_count": 14,
     "metadata": {},
     "output_type": "execute_result"
    }
   ],
   "source": [
    "df.shape"
   ]
  },
  {
   "cell_type": "code",
   "execution_count": 15,
   "id": "4812e206",
   "metadata": {},
   "outputs": [
    {
     "data": {
      "text/plain": [
       "Index(['date', 'Usage_kWh', 'Lagging_Current_Reactive.Power_kVarh',\n",
       "       'Leading_Current_Reactive_Power_kVarh', 'CO2(tCO2)',\n",
       "       'Lagging_Current_Power_Factor', 'Leading_Current_Power_Factor', 'NSM',\n",
       "       'WeekStatus', 'Day_of_week', 'Load_Type'],\n",
       "      dtype='object')"
      ]
     },
     "execution_count": 15,
     "metadata": {},
     "output_type": "execute_result"
    }
   ],
   "source": [
    "df.columns"
   ]
  },
  {
   "cell_type": "code",
   "execution_count": null,
   "id": "3643f4c0",
   "metadata": {},
   "outputs": [],
   "source": []
  }
 ],
 "metadata": {
  "kernelspec": {
   "display_name": ".venv",
   "language": "python",
   "name": "python3"
  },
  "language_info": {
   "codemirror_mode": {
    "name": "ipython",
    "version": 3
   },
   "file_extension": ".py",
   "mimetype": "text/x-python",
   "name": "python",
   "nbconvert_exporter": "python",
   "pygments_lexer": "ipython3",
   "version": "3.14.0"
  }
 },
 "nbformat": 4,
 "nbformat_minor": 5
}
